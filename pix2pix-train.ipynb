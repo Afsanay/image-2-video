{
 "cells": [
  {
   "cell_type": "code",
   "execution_count": 1,
   "id": "527a6345",
   "metadata": {
    "_cell_guid": "b1076dfc-b9ad-4769-8c92-a6c4dae69d19",
    "_uuid": "8f2839f25d086af736a60e9eeb907d3b93b6e0e5",
    "execution": {
     "iopub.execute_input": "2023-11-17T13:44:01.690906Z",
     "iopub.status.busy": "2023-11-17T13:44:01.690149Z",
     "iopub.status.idle": "2023-11-17T13:44:07.486001Z",
     "shell.execute_reply": "2023-11-17T13:44:07.484985Z"
    },
    "papermill": {
     "duration": 5.805088,
     "end_time": "2023-11-17T13:44:07.488614",
     "exception": false,
     "start_time": "2023-11-17T13:44:01.683526",
     "status": "completed"
    },
    "tags": []
   },
   "outputs": [
    {
     "name": "stderr",
     "output_type": "stream",
     "text": [
      "/opt/conda/lib/python3.10/site-packages/scipy/__init__.py:146: UserWarning: A NumPy version >=1.16.5 and <1.23.0 is required for this version of SciPy (detected version 1.24.3\n",
      "  warnings.warn(f\"A NumPy version >={np_minversion} and <{np_maxversion}\"\n"
     ]
    }
   ],
   "source": [
    "import torch\n",
    "import torchvision\n",
    "import torch.nn as nn\n",
    "from PIL import Image\n",
    "import numpy as np\n",
    "from torch.utils.data import Dataset, DataLoader\n",
    "from tqdm import tqdm\n",
    "import torch.optim as optim\n",
    "import os\n",
    "import matplotlib.pyplot as plt\n",
    "import albumentations as A\n",
    "from albumentations.pytorch import ToTensorV2\n",
    "from torchvision.utils import save_image"
   ]
  },
  {
   "cell_type": "code",
   "execution_count": 2,
   "id": "e248eb1f",
   "metadata": {
    "execution": {
     "iopub.execute_input": "2023-11-17T13:44:07.500984Z",
     "iopub.status.busy": "2023-11-17T13:44:07.500603Z",
     "iopub.status.idle": "2023-11-17T13:44:07.506293Z",
     "shell.execute_reply": "2023-11-17T13:44:07.505535Z"
    },
    "papermill": {
     "duration": 0.013642,
     "end_time": "2023-11-17T13:44:07.508165",
     "exception": false,
     "start_time": "2023-11-17T13:44:07.494523",
     "status": "completed"
    },
    "tags": []
   },
   "outputs": [],
   "source": [
    "class CNNBlock(nn.Module):\n",
    "    def __init__(self,in_channels, out_channels, stride):\n",
    "        super().__init__()\n",
    "        self.conv = nn.Sequential(\n",
    "            nn.Conv2d(in_channels, out_channels,4,stride,bias=False,padding_mode=\"reflect\"),\n",
    "            nn.BatchNorm2d(out_channels),\n",
    "            nn.LeakyReLU(0.2),\n",
    "        )\n",
    "    def forward(self,x):\n",
    "        return self.conv(x)"
   ]
  },
  {
   "cell_type": "code",
   "execution_count": 3,
   "id": "b947cffd",
   "metadata": {
    "execution": {
     "iopub.execute_input": "2023-11-17T13:44:07.519094Z",
     "iopub.status.busy": "2023-11-17T13:44:07.518821Z",
     "iopub.status.idle": "2023-11-17T13:44:07.526846Z",
     "shell.execute_reply": "2023-11-17T13:44:07.526046Z"
    },
    "papermill": {
     "duration": 0.015609,
     "end_time": "2023-11-17T13:44:07.528709",
     "exception": false,
     "start_time": "2023-11-17T13:44:07.513100",
     "status": "completed"
    },
    "tags": []
   },
   "outputs": [],
   "source": [
    "class Discriminator(nn.Module):\n",
    "    def __init__(self,in_channels=3, features=[64,128,256,512]):\n",
    "        super().__init__()\n",
    "        self.initial = nn.Sequential(\n",
    "            nn.Conv2d(\n",
    "                in_channels*2,\n",
    "                features[0],\n",
    "                kernel_size=4,\n",
    "                stride=2,\n",
    "                padding=1,\n",
    "                padding_mode=\"reflect\",\n",
    "            ),\n",
    "            nn.LeakyReLU(0.2),\n",
    "        )\n",
    "        layers = []\n",
    "        in_channels = features[0]\n",
    "        for feature in features[1:]:\n",
    "            layers.append(\n",
    "                CNNBlock(in_channels,feature,stride=1 if feature == features[-1] else 2),\n",
    "            )\n",
    "            in_channels = feature\n",
    "        layers.append(\n",
    "            nn.Conv2d(\n",
    "                in_channels,1, kernel_size=4,stride=1,padding=1,padding_mode=\"reflect\"\n",
    "            ),\n",
    "        )\n",
    "        self.model = nn.Sequential(*layers)\n",
    "    def forward(self,x,y):\n",
    "        x = torch.cat([x,y], dim =1)\n",
    "        x = self.initial(x)\n",
    "        x = self.model(x)\n",
    "        return x"
   ]
  },
  {
   "cell_type": "code",
   "execution_count": 4,
   "id": "c9792e2c",
   "metadata": {
    "execution": {
     "iopub.execute_input": "2023-11-17T13:44:07.539623Z",
     "iopub.status.busy": "2023-11-17T13:44:07.539384Z",
     "iopub.status.idle": "2023-11-17T13:44:07.546520Z",
     "shell.execute_reply": "2023-11-17T13:44:07.545666Z"
    },
    "papermill": {
     "duration": 0.014684,
     "end_time": "2023-11-17T13:44:07.548378",
     "exception": false,
     "start_time": "2023-11-17T13:44:07.533694",
     "status": "completed"
    },
    "tags": []
   },
   "outputs": [],
   "source": [
    "class Block(nn.Module):\n",
    "    def __init__(self, in_channels, out_channels, down=True, act=\"relu\", use_dropout=False):\n",
    "        super(Block, self).__init__()\n",
    "        self.conv = nn.Sequential(\n",
    "            nn.Conv2d(in_channels, out_channels, 4, 2, 1, bias=False, padding_mode=\"reflect\")\n",
    "            if down\n",
    "            else nn.ConvTranspose2d(in_channels, out_channels, 4, 2, 1, bias=False),\n",
    "            nn.BatchNorm2d(out_channels),\n",
    "            nn.ReLU() if act == \"relu\" else nn.LeakyReLU(0.2),\n",
    "        )\n",
    "\n",
    "        self.use_dropout = use_dropout\n",
    "        self.dropout = nn.Dropout(0.5)\n",
    "        self.down = down\n",
    "\n",
    "    def forward(self, x):\n",
    "        x = self.conv(x)\n",
    "        return self.dropout(x) if self.use_dropout else x"
   ]
  },
  {
   "cell_type": "code",
   "execution_count": 5,
   "id": "4eff7bf2",
   "metadata": {
    "execution": {
     "iopub.execute_input": "2023-11-17T13:44:07.559313Z",
     "iopub.status.busy": "2023-11-17T13:44:07.558997Z",
     "iopub.status.idle": "2023-11-17T13:44:07.575173Z",
     "shell.execute_reply": "2023-11-17T13:44:07.574352Z"
    },
    "papermill": {
     "duration": 0.023728,
     "end_time": "2023-11-17T13:44:07.577021",
     "exception": false,
     "start_time": "2023-11-17T13:44:07.553293",
     "status": "completed"
    },
    "tags": []
   },
   "outputs": [],
   "source": [
    "class Generator(nn.Module):\n",
    "    def __init__(self, in_channels=3, features=64):\n",
    "        super().__init__()\n",
    "        self.initial_down = nn.Sequential(\n",
    "            nn.Conv2d(in_channels, features, 4, 2, 1, padding_mode=\"reflect\"),\n",
    "            nn.LeakyReLU(0.2),\n",
    "        )\n",
    "        self.down1 = Block(features, features * 2, down=True, act=\"leaky\", use_dropout=False)\n",
    "        self.down2 = Block(\n",
    "            features * 2, features * 4, down=True, act=\"leaky\", use_dropout=False\n",
    "        )\n",
    "        self.down3 = Block(\n",
    "            features * 4, features * 8, down=True, act=\"leaky\", use_dropout=False\n",
    "        )\n",
    "        self.down4 = Block(\n",
    "            features * 8, features * 8, down=True, act=\"leaky\", use_dropout=False\n",
    "        )\n",
    "        self.down5 = Block(\n",
    "            features * 8, features * 8, down=True, act=\"leaky\", use_dropout=False\n",
    "        )\n",
    "        self.down6 = Block(\n",
    "            features * 8, features * 8, down=True, act=\"leaky\", use_dropout=False\n",
    "        )\n",
    "        self.bottleneck = nn.Sequential(\n",
    "            nn.Conv2d(features * 8, features * 8, 4, 2, 1), nn.ReLU()\n",
    "        )\n",
    "\n",
    "        self.up1 = Block(features * 8, features * 8, down=False, act=\"relu\", use_dropout=True)\n",
    "        self.up2 = Block(\n",
    "            features * 8 * 2, features * 8, down=False, act=\"relu\", use_dropout=True\n",
    "        )\n",
    "        self.up3 = Block(\n",
    "            features * 8 * 2, features * 8, down=False, act=\"relu\", use_dropout=True\n",
    "        )\n",
    "        self.up4 = Block(\n",
    "            features * 8 * 2, features * 8, down=False, act=\"relu\", use_dropout=False\n",
    "        )\n",
    "        self.up5 = Block(\n",
    "            features * 8 * 2, features * 4, down=False, act=\"relu\", use_dropout=False\n",
    "        )\n",
    "        self.up6 = Block(\n",
    "            features * 4 * 2, features * 2, down=False, act=\"relu\", use_dropout=False\n",
    "        )\n",
    "        self.up7 = Block(features * 2 * 2, features, down=False, act=\"relu\", use_dropout=False)\n",
    "        self.final_up = nn.Sequential(\n",
    "            nn.ConvTranspose2d(features * 2, in_channels, kernel_size=4, stride=2, padding=1),\n",
    "            nn.Tanh(),\n",
    "        )\n",
    "    \n",
    "    def forward(self,x):\n",
    "        d1 = self.initial_down(x)\n",
    "        d2 = self.down1(d1)\n",
    "        d3 = self.down2(d2)\n",
    "        d4 = self.down3(d3)\n",
    "        d5 = self.down4(d4)\n",
    "        d6 = self.down5(d5)\n",
    "        d7 = self.down6(d6)\n",
    "        bottleneck = self.bottleneck(d7)\n",
    "        up1 = self.up1(bottleneck)\n",
    "        up2 = self.up2(torch.cat([up1,d7],1))\n",
    "        up3 = self.up3(torch.cat([up2,d6],1))\n",
    "        up4 = self.up4(torch.cat([up3,d5],1))\n",
    "        up5 = self.up5(torch.cat([up4,d4],1))\n",
    "        up6 = self.up6(torch.cat([up5,d3],1))\n",
    "        up7 = self.up7(torch.cat([up6,d2],1))\n",
    "        return self.final_up(torch.cat([up7,d1],1))"
   ]
  },
  {
   "cell_type": "code",
   "execution_count": 6,
   "id": "74385122",
   "metadata": {
    "execution": {
     "iopub.execute_input": "2023-11-17T13:44:07.587757Z",
     "iopub.status.busy": "2023-11-17T13:44:07.587489Z",
     "iopub.status.idle": "2023-11-17T13:44:07.653460Z",
     "shell.execute_reply": "2023-11-17T13:44:07.652757Z"
    },
    "papermill": {
     "duration": 0.073437,
     "end_time": "2023-11-17T13:44:07.655347",
     "exception": false,
     "start_time": "2023-11-17T13:44:07.581910",
     "status": "completed"
    },
    "tags": []
   },
   "outputs": [],
   "source": [
    "class Config():\n",
    "    def __init__(self):\n",
    "        self.DEVICE = \"cuda\" if torch.cuda.is_available() else \"cpu\"\n",
    "        self.TRAIN_DIR = \"/kaggle/input/25-diff-mini/images2\"\n",
    "        self.VAL_DIR = \"/kaggle/input/25-diff-mini/images2\"\n",
    "        self.LEARNING_RATE = 2e-4\n",
    "        self.BATCH_SIZE = 16\n",
    "        self.NUM_WORKERS =0\n",
    "        self.IMAGE_SIZE = 256\n",
    "        self.CHANNELS_IMG = 3\n",
    "        self.L1_LAMBDA = 100\n",
    "        self.LAMBDA_GP = 10\n",
    "        self.NUM_EPOCHS = 36\n",
    "        self.LOAD_MODEL = True\n",
    "        self.SAVE_MODEL = True\n",
    "        \n",
    "\n",
    "        self.both_transform = A.Compose(\n",
    "            [A.Resize(width=256, height=256),], additional_targets={\"image0\": \"image\"},\n",
    "        )\n",
    "\n",
    "        self.transform_only_input = A.Compose(\n",
    "            [\n",
    "                A.HorizontalFlip(p=0.5),\n",
    "                A.ColorJitter(p=0.2),\n",
    "                A.Normalize(mean=[0.5, 0.5, 0.5], std=[0.5, 0.5, 0.5], max_pixel_value=255.0,),\n",
    "                ToTensorV2(),\n",
    "            ]\n",
    "        )\n",
    "\n",
    "        self.transform_only_mask = A.Compose(\n",
    "            [\n",
    "                A.Normalize(mean=[0.5, 0.5, 0.5], std=[0.5, 0.5, 0.5], max_pixel_value=255.0,),\n",
    "                ToTensorV2(),\n",
    "            ]\n",
    "        )\n",
    "config = Config()"
   ]
  },
  {
   "cell_type": "code",
   "execution_count": 7,
   "id": "2f213068",
   "metadata": {
    "execution": {
     "iopub.execute_input": "2023-11-17T13:44:07.666503Z",
     "iopub.status.busy": "2023-11-17T13:44:07.666247Z",
     "iopub.status.idle": "2023-11-17T13:44:07.673464Z",
     "shell.execute_reply": "2023-11-17T13:44:07.672710Z"
    },
    "papermill": {
     "duration": 0.014896,
     "end_time": "2023-11-17T13:44:07.675218",
     "exception": false,
     "start_time": "2023-11-17T13:44:07.660322",
     "status": "completed"
    },
    "tags": []
   },
   "outputs": [],
   "source": [
    "class ImageDataset(Dataset):\n",
    "    def __init__(self, root_dir):\n",
    "        self.root_dir = root_dir\n",
    "        self.list_files = os.listdir(self.root_dir)\n",
    "\n",
    "    def __len__(self):\n",
    "        return len(self.list_files)\n",
    "\n",
    "    def __getitem__(self, index):\n",
    "        img_file = self.list_files[index]\n",
    "        img_path = os.path.join(self.root_dir, img_file)\n",
    "        image = np.array(Image.open(img_path))\n",
    "        input_image = image[:, :200, :]\n",
    "        target_image = image[:, 200:, :]\n",
    "\n",
    "        augmentations = config.both_transform(image=input_image, image0=target_image)\n",
    "        input_image = augmentations[\"image\"]\n",
    "        target_image = augmentations[\"image0\"]\n",
    "\n",
    "        input_image = config.transform_only_input(image=input_image)[\"image\"]\n",
    "        target_image = config.transform_only_mask(image=target_image)[\"image\"]\n",
    "\n",
    "        return input_image, target_image"
   ]
  },
  {
   "cell_type": "code",
   "execution_count": 8,
   "id": "54bed94f",
   "metadata": {
    "execution": {
     "iopub.execute_input": "2023-11-17T13:44:07.686076Z",
     "iopub.status.busy": "2023-11-17T13:44:07.685803Z",
     "iopub.status.idle": "2023-11-17T13:44:08.180363Z",
     "shell.execute_reply": "2023-11-17T13:44:08.179330Z"
    },
    "papermill": {
     "duration": 0.502623,
     "end_time": "2023-11-17T13:44:08.182738",
     "exception": false,
     "start_time": "2023-11-17T13:44:07.680115",
     "status": "completed"
    },
    "tags": []
   },
   "outputs": [],
   "source": [
    "dataset = ImageDataset(\"/kaggle/input/25-diff-mini/images2\")\n",
    "loader = DataLoader(dataset,batch_size=5)"
   ]
  },
  {
   "cell_type": "code",
   "execution_count": 9,
   "id": "9e96f6dc",
   "metadata": {
    "execution": {
     "iopub.execute_input": "2023-11-17T13:44:08.194552Z",
     "iopub.status.busy": "2023-11-17T13:44:08.194239Z",
     "iopub.status.idle": "2023-11-17T13:44:08.200558Z",
     "shell.execute_reply": "2023-11-17T13:44:08.199717Z"
    },
    "papermill": {
     "duration": 0.014649,
     "end_time": "2023-11-17T13:44:08.202631",
     "exception": false,
     "start_time": "2023-11-17T13:44:08.187982",
     "status": "completed"
    },
    "tags": []
   },
   "outputs": [],
   "source": [
    "def save_some_examples(gen, val_loader, epoch, folder):\n",
    "    x, y = next(iter(val_loader))\n",
    "    x, y = x.to(config.DEVICE), y.to(config.DEVICE)\n",
    "    gen.eval()\n",
    "    with torch.no_grad():\n",
    "        y_fake = gen(x)\n",
    "        y_fake = y_fake * 0.5 + 0.5  # remove normalization#\n",
    "        save_image(y_fake, folder + f\"/y_gen_{epoch}.png\")\n",
    "        save_image(x * 0.5 + 0.5, folder + f\"/input_{epoch}.png\")\n",
    "        if epoch == 1:\n",
    "            save_image(y * 0.5 + 0.5, folder + f\"/label_{epoch}.png\")\n",
    "    gen.train()"
   ]
  },
  {
   "cell_type": "code",
   "execution_count": 10,
   "id": "49e7f5cc",
   "metadata": {
    "execution": {
     "iopub.execute_input": "2023-11-17T13:44:08.213711Z",
     "iopub.status.busy": "2023-11-17T13:44:08.213449Z",
     "iopub.status.idle": "2023-11-17T13:44:08.217867Z",
     "shell.execute_reply": "2023-11-17T13:44:08.217087Z"
    },
    "papermill": {
     "duration": 0.012169,
     "end_time": "2023-11-17T13:44:08.219721",
     "exception": false,
     "start_time": "2023-11-17T13:44:08.207552",
     "status": "completed"
    },
    "tags": []
   },
   "outputs": [],
   "source": [
    "def save_checkpoint(model, optimizer, filename=\"my_checkpoint.pth.tar\"):\n",
    "    print(\"=> Saving checkpoint\")\n",
    "    checkpoint = {\n",
    "        \"state_dict\": model.state_dict(),\n",
    "        \"optimizer\": optimizer.state_dict(),\n",
    "    }\n",
    "    torch.save(checkpoint, filename)"
   ]
  },
  {
   "cell_type": "code",
   "execution_count": 11,
   "id": "ec347661",
   "metadata": {
    "execution": {
     "iopub.execute_input": "2023-11-17T13:44:08.230806Z",
     "iopub.status.busy": "2023-11-17T13:44:08.230273Z",
     "iopub.status.idle": "2023-11-17T13:44:08.235348Z",
     "shell.execute_reply": "2023-11-17T13:44:08.234531Z"
    },
    "papermill": {
     "duration": 0.012721,
     "end_time": "2023-11-17T13:44:08.237407",
     "exception": false,
     "start_time": "2023-11-17T13:44:08.224686",
     "status": "completed"
    },
    "tags": []
   },
   "outputs": [],
   "source": [
    "def load_checkpoint(checkpoint_file, model, optimizer, lr):\n",
    "    print(\"=> Loading checkpoint\")\n",
    "    checkpoint = torch.load(checkpoint_file, map_location=config.DEVICE)\n",
    "    model.load_state_dict(checkpoint[\"state_dict\"])\n",
    "    optimizer.load_state_dict(checkpoint[\"optimizer\"])\n",
    "    for param_group in optimizer.param_groups:\n",
    "        param_group[\"lr\"] = lr"
   ]
  },
  {
   "cell_type": "code",
   "execution_count": 12,
   "id": "6876ed79",
   "metadata": {
    "execution": {
     "iopub.execute_input": "2023-11-17T13:44:08.248696Z",
     "iopub.status.busy": "2023-11-17T13:44:08.248462Z",
     "iopub.status.idle": "2023-11-17T13:44:08.252475Z",
     "shell.execute_reply": "2023-11-17T13:44:08.251580Z"
    },
    "papermill": {
     "duration": 0.011984,
     "end_time": "2023-11-17T13:44:08.254498",
     "exception": false,
     "start_time": "2023-11-17T13:44:08.242514",
     "status": "completed"
    },
    "tags": []
   },
   "outputs": [],
   "source": [
    "torch.backends.cudnn.benchmark = True"
   ]
  },
  {
   "cell_type": "code",
   "execution_count": 13,
   "id": "5bc97369",
   "metadata": {
    "execution": {
     "iopub.execute_input": "2023-11-17T13:44:08.265688Z",
     "iopub.status.busy": "2023-11-17T13:44:08.265438Z",
     "iopub.status.idle": "2023-11-17T13:44:08.275368Z",
     "shell.execute_reply": "2023-11-17T13:44:08.274548Z"
    },
    "papermill": {
     "duration": 0.017889,
     "end_time": "2023-11-17T13:44:08.277253",
     "exception": false,
     "start_time": "2023-11-17T13:44:08.259364",
     "status": "completed"
    },
    "tags": []
   },
   "outputs": [],
   "source": [
    "def train_fn(disc, gen, loader, opt_disc, opt_gen, l1_loss, bce, g_scaler, d_scaler):\n",
    "    loop = tqdm(loader, leave=True)\n",
    "\n",
    "    for idx, (x, y) in enumerate(loop):\n",
    "        x = x.to(config.DEVICE)\n",
    "        y = y.to(config.DEVICE)\n",
    "\n",
    "        # Train Discriminator\n",
    "        with torch.cuda.amp.autocast():\n",
    "            y_fake = gen(x)\n",
    "            D_real = disc(x, y)\n",
    "            D_real_loss = bce(D_real, torch.ones_like(D_real))\n",
    "            D_fake = disc(x, y_fake.detach())\n",
    "            D_fake_loss = bce(D_fake, torch.zeros_like(D_fake))\n",
    "            D_loss = (D_real_loss + D_fake_loss) / 2\n",
    "\n",
    "        disc.zero_grad()\n",
    "        d_scaler.scale(D_loss).backward()\n",
    "        d_scaler.step(opt_disc)\n",
    "        d_scaler.update()\n",
    "\n",
    "        # Train generator\n",
    "        with torch.cuda.amp.autocast():\n",
    "            D_fake = disc(x, y_fake)\n",
    "            G_fake_loss = bce(D_fake, torch.ones_like(D_fake))\n",
    "            L1 = l1_loss(y_fake, y) * config.L1_LAMBDA\n",
    "            G_loss = G_fake_loss + L1\n",
    "\n",
    "        opt_gen.zero_grad()\n",
    "        g_scaler.scale(G_loss).backward()\n",
    "        g_scaler.step(opt_gen)\n",
    "        g_scaler.update()\n",
    "\n",
    "        if idx % 10 == 0:\n",
    "            loop.set_postfix(\n",
    "                D_real=torch.sigmoid(D_real).mean().item(),\n",
    "                D_fake=torch.sigmoid(D_fake).mean().item(),\n",
    "            )\n"
   ]
  },
  {
   "cell_type": "code",
   "execution_count": 14,
   "id": "724856cb",
   "metadata": {
    "execution": {
     "iopub.execute_input": "2023-11-17T13:44:08.288803Z",
     "iopub.status.busy": "2023-11-17T13:44:08.288530Z",
     "iopub.status.idle": "2023-11-18T00:00:02.883125Z",
     "shell.execute_reply": "2023-11-18T00:00:02.882303Z"
    },
    "papermill": {
     "duration": 36954.602667,
     "end_time": "2023-11-18T00:00:02.885432",
     "exception": false,
     "start_time": "2023-11-17T13:44:08.282765",
     "status": "completed"
    },
    "tags": []
   },
   "outputs": [
    {
     "name": "stderr",
     "output_type": "stream",
     "text": [
      "100%|██████████| 2824/2824 [18:58<00:00,  2.48it/s, D_fake=0.0381, D_real=0.971]\n"
     ]
    },
    {
     "name": "stdout",
     "output_type": "stream",
     "text": [
      "=> Saving checkpoint\n",
      "=> Saving checkpoint\n"
     ]
    },
    {
     "name": "stderr",
     "output_type": "stream",
     "text": [
      "100%|██████████| 2824/2824 [17:01<00:00,  2.76it/s, D_fake=0.217, D_real=0.892]\n",
      "100%|██████████| 2824/2824 [17:07<00:00,  2.75it/s, D_fake=0.496, D_real=0.496]\n",
      "100%|██████████| 2824/2824 [17:38<00:00,  2.67it/s, D_fake=0.462, D_real=0.505]\n",
      "100%|██████████| 2824/2824 [17:05<00:00,  2.75it/s, D_fake=0.403, D_real=0.704]\n",
      "100%|██████████| 2824/2824 [16:47<00:00,  2.80it/s, D_fake=0.0806, D_real=0.665]\n"
     ]
    },
    {
     "name": "stdout",
     "output_type": "stream",
     "text": [
      "=> Saving checkpoint\n"
     ]
    },
    {
     "name": "stderr",
     "output_type": "stream",
     "text": [
      "100%|██████████| 2824/2824 [16:56<00:00,  2.78it/s, D_fake=0.508, D_real=0.547]\n",
      "100%|██████████| 2824/2824 [16:48<00:00,  2.80it/s, D_fake=0.254, D_real=0.66]\n",
      "100%|██████████| 2824/2824 [16:45<00:00,  2.81it/s, D_fake=0.337, D_real=0.701]\n",
      "100%|██████████| 2824/2824 [17:00<00:00,  2.77it/s, D_fake=0.357, D_real=0.698]\n",
      "100%|██████████| 2824/2824 [17:09<00:00,  2.74it/s, D_fake=0.426, D_real=0.587]\n"
     ]
    },
    {
     "name": "stdout",
     "output_type": "stream",
     "text": [
      "=> Saving checkpoint\n",
      "=> Saving checkpoint\n"
     ]
    },
    {
     "name": "stderr",
     "output_type": "stream",
     "text": [
      "100%|██████████| 2824/2824 [16:56<00:00,  2.78it/s, D_fake=0.438, D_real=0.386]\n",
      "100%|██████████| 2824/2824 [16:57<00:00,  2.77it/s, D_fake=0.469, D_real=0.512]\n",
      "100%|██████████| 2824/2824 [17:24<00:00,  2.70it/s, D_fake=0.29, D_real=0.652]\n",
      "100%|██████████| 2824/2824 [16:46<00:00,  2.81it/s, D_fake=0.256, D_real=0.603]\n",
      "100%|██████████| 2824/2824 [17:16<00:00,  2.72it/s, D_fake=0.508, D_real=0.485]\n"
     ]
    },
    {
     "name": "stdout",
     "output_type": "stream",
     "text": [
      "=> Saving checkpoint\n"
     ]
    },
    {
     "name": "stderr",
     "output_type": "stream",
     "text": [
      "100%|██████████| 2824/2824 [17:18<00:00,  2.72it/s, D_fake=0.263, D_real=0.689]\n",
      "100%|██████████| 2824/2824 [17:04<00:00,  2.76it/s, D_fake=0.251, D_real=0.639]\n",
      "100%|██████████| 2824/2824 [16:57<00:00,  2.78it/s, D_fake=0.473, D_real=0.552]\n",
      "100%|██████████| 2824/2824 [17:07<00:00,  2.75it/s, D_fake=0.5, D_real=0.405]\n",
      "100%|██████████| 2824/2824 [17:24<00:00,  2.70it/s, D_fake=0.231, D_real=0.791]\n"
     ]
    },
    {
     "name": "stdout",
     "output_type": "stream",
     "text": [
      "=> Saving checkpoint\n",
      "=> Saving checkpoint\n"
     ]
    },
    {
     "name": "stderr",
     "output_type": "stream",
     "text": [
      "100%|██████████| 2824/2824 [17:23<00:00,  2.71it/s, D_fake=0.195, D_real=0.662]\n",
      "100%|██████████| 2824/2824 [17:29<00:00,  2.69it/s, D_fake=0.153, D_real=0.809]\n",
      "100%|██████████| 2824/2824 [16:43<00:00,  2.81it/s, D_fake=0.294, D_real=0.606]\n",
      "100%|██████████| 2824/2824 [16:32<00:00,  2.85it/s, D_fake=0.142, D_real=0.707]\n",
      "100%|██████████| 2824/2824 [17:01<00:00,  2.76it/s, D_fake=0.478, D_real=0.505]\n"
     ]
    },
    {
     "name": "stdout",
     "output_type": "stream",
     "text": [
      "=> Saving checkpoint\n"
     ]
    },
    {
     "name": "stderr",
     "output_type": "stream",
     "text": [
      "100%|██████████| 2824/2824 [16:52<00:00,  2.79it/s, D_fake=0.106, D_real=0.736]\n",
      "100%|██████████| 2824/2824 [16:36<00:00,  2.83it/s, D_fake=0.474, D_real=0.512]\n",
      "100%|██████████| 2824/2824 [16:52<00:00,  2.79it/s, D_fake=0.173, D_real=0.73]\n",
      "100%|██████████| 2824/2824 [16:45<00:00,  2.81it/s, D_fake=0.491, D_real=0.549]\n",
      "100%|██████████| 2824/2824 [16:16<00:00,  2.89it/s, D_fake=0.324, D_real=0.676]\n"
     ]
    },
    {
     "name": "stdout",
     "output_type": "stream",
     "text": [
      "=> Saving checkpoint\n",
      "=> Saving checkpoint\n"
     ]
    },
    {
     "name": "stderr",
     "output_type": "stream",
     "text": [
      "100%|██████████| 2824/2824 [16:23<00:00,  2.87it/s, D_fake=0.0975, D_real=0.87]\n",
      "100%|██████████| 2824/2824 [16:39<00:00,  2.83it/s, D_fake=0.495, D_real=0.51]\n",
      "100%|██████████| 2824/2824 [16:45<00:00,  2.81it/s, D_fake=0.202, D_real=0.729]\n",
      "100%|██████████| 2824/2824 [18:12<00:00,  2.58it/s, D_fake=0.102, D_real=0.916]\n",
      "100%|██████████| 2824/2824 [18:32<00:00,  2.54it/s, D_fake=0.466, D_real=0.52]\n"
     ]
    },
    {
     "name": "stdout",
     "output_type": "stream",
     "text": [
      "=> Saving checkpoint\n"
     ]
    }
   ],
   "source": [
    "disc = Discriminator(in_channels=3).to(config.DEVICE)\n",
    "gen = Generator(in_channels=3, features=64).to(config.DEVICE)\n",
    "opt_disc = optim.Adam(disc.parameters(), lr=config.LEARNING_RATE, betas=(0.5, 0.999),)\n",
    "opt_gen = optim.Adam(gen.parameters(), lr=config.LEARNING_RATE, betas=(0.5, 0.999))\n",
    "BCE = nn.BCEWithLogitsLoss()\n",
    "L1_LOSS = nn.L1Loss()\n",
    "\n",
    "# if config.LOAD_MODEL:\n",
    "#     load_checkpoint(\n",
    "#         config.CHECKPOINT_GEN, gen, opt_gen, config.LEARNING_RATE,\n",
    "#     )\n",
    "#     load_checkpoint(\n",
    "#         config.CHECKPOINT_DISC, disc, opt_disc, config.LEARNING_RATE,\n",
    "#     )\n",
    "\n",
    "train_dataset = ImageDataset(root_dir=config.TRAIN_DIR)\n",
    "train_loader = DataLoader(\n",
    "    train_dataset,\n",
    "    batch_size=config.BATCH_SIZE,\n",
    "    shuffle=True,\n",
    "    num_workers=config.NUM_WORKERS,\n",
    ")\n",
    "g_scaler = torch.cuda.amp.GradScaler()\n",
    "d_scaler = torch.cuda.amp.GradScaler()\n",
    "val_dataset = ImageDataset(root_dir=config.VAL_DIR)\n",
    "val_loader = DataLoader(val_dataset, batch_size=5, shuffle=False)\n",
    "\n",
    "for epoch in range(config.NUM_EPOCHS):\n",
    "    train_fn(\n",
    "        disc, gen, train_loader, opt_disc, opt_gen, L1_LOSS, BCE, g_scaler, d_scaler,\n",
    "    )\n",
    "\n",
    "    if config.SAVE_MODEL and epoch % 5 == 0:\n",
    "        save_checkpoint(gen, opt_gen, filename=f\"gen_{epoch}.pth\")\n",
    "        if epoch%10 == 0:\n",
    "            save_checkpoint(disc, opt_disc, filename=f\"disc_{epoch}.pth\")"
   ]
  },
  {
   "cell_type": "code",
   "execution_count": 15,
   "id": "56fd8b59",
   "metadata": {
    "execution": {
     "iopub.execute_input": "2023-11-18T00:00:21.413776Z",
     "iopub.status.busy": "2023-11-18T00:00:21.413410Z",
     "iopub.status.idle": "2023-11-18T00:00:22.262856Z",
     "shell.execute_reply": "2023-11-18T00:00:22.261874Z"
    },
    "papermill": {
     "duration": 10.077559,
     "end_time": "2023-11-18T00:00:22.264960",
     "exception": false,
     "start_time": "2023-11-18T00:00:12.187401",
     "status": "completed"
    },
    "tags": []
   },
   "outputs": [
    {
     "name": "stdout",
     "output_type": "stream",
     "text": [
      "=> Saving checkpoint\n",
      "=> Saving checkpoint\n"
     ]
    }
   ],
   "source": [
    "save_checkpoint(gen, opt_gen, filename=f\"gen_final.pth\")\n",
    "save_checkpoint(disc, opt_disc, filename=f\"disc_final.pth\")"
   ]
  },
  {
   "cell_type": "code",
   "execution_count": null,
   "id": "93e4dede",
   "metadata": {
    "papermill": {
     "duration": 9.435832,
     "end_time": "2023-11-18T00:00:40.870281",
     "exception": false,
     "start_time": "2023-11-18T00:00:31.434449",
     "status": "completed"
    },
    "tags": []
   },
   "outputs": [],
   "source": []
  }
 ],
 "metadata": {
  "kaggle": {
   "accelerator": "gpu",
   "dataSources": [
    {
     "datasetId": 4017070,
     "sourceId": 6989256,
     "sourceType": "datasetVersion"
    }
   ],
   "dockerImageVersionId": 30588,
   "isGpuEnabled": true,
   "isInternetEnabled": true,
   "language": "python",
   "sourceType": "notebook"
  },
  "kernelspec": {
   "display_name": "Python 3",
   "language": "python",
   "name": "python3"
  },
  "language_info": {
   "codemirror_mode": {
    "name": "ipython",
    "version": 3
   },
   "file_extension": ".py",
   "mimetype": "text/x-python",
   "name": "python",
   "nbconvert_exporter": "python",
   "pygments_lexer": "ipython3",
   "version": "3.10.12"
  },
  "papermill": {
   "default_parameters": {},
   "duration": 37013.502899,
   "end_time": "2023-11-18T00:00:51.853571",
   "environment_variables": {},
   "exception": null,
   "input_path": "__notebook__.ipynb",
   "output_path": "__notebook__.ipynb",
   "parameters": {},
   "start_time": "2023-11-17T13:43:58.350672",
   "version": "2.4.0"
  }
 },
 "nbformat": 4,
 "nbformat_minor": 5
}
